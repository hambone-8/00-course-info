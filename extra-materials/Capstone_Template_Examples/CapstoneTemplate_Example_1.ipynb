{
 "cells": [
  {
   "cell_type": "markdown",
   "metadata": {},
   "source": [
    "<h1><center><font face=\"Times New Roman\", size=\"6\">Witches in Ditches</font><br>\n",
    "    <span><font size=\"4\", face=\"Times New Roman\">\n",
    "        The Great Scottish Witch Hunt of 1597<br> </font>\n",
    "        <font size=\"3\", face=\"Times New Roman\">\n",
    "        Author: Alaina Dooley<center>\n",
    "        </font></span>\n",
    "</h1>\n",
    "<font face=\"Times New Roman\">\n",
    "    <p><center>\n",
    "        <a href=\"#Over\">Background</a>  |  <a href=\"#Problem\">Problem Description</a> | \n",
    "        <a href=\"#Hyp\">Hypothesis</a>  |   <a href=\"#Data\">Data</a>   |   \n",
    "        <a href=\"#Method\">Analyis and Methodology</a>   |   <a href=\"#Find\">Conclusion</a>  | \n",
    "        <a href=\"#Ref\">References</a>  |  <a href=\"#Intro\">Author</a>\n",
    "</font>        \n",
    "<hr>"
   ]
  },
  {
   "cell_type": "markdown",
   "metadata": {},
   "source": [
    "<div style=\"width:450px; float:left;\">\n",
    "     &nbsp;\n",
    "     <img src=\"images/scotland.png\" style=\"width:300px;height:230px;border:6px double #696a72;\" />\n",
    "</div>\n",
    "\n",
    "<div style=\"width:25px; float:left;\">&nbsp;</div>\n",
    "\n",
    "<div style=\"width:450px; float:left;\">\n",
    "    <h4>Background</h4><br>\n",
    "    Witch trials in early modern Scotland were the judicial proceedings in Scotland between the early sixteenth century and the mid-18th century concerned with crimes of witchcraft. The passing of the Witchcraft Act 1563 made witchcraft capital crimes. <br><br>\n",
    "    An estimated 4,000 to 6,000 people, mostly from the Scottish Lowlands, were tried for witchcraft in this period, a much higher rate than for neighbouring England. There were major series of trials in 1590–91, 1597, 1628–31, 1649–50 and 1661–62. Estimates indicate >1,500 persons were executed; most strangled and then burned.\n",
    "</div>"
   ]
  },
  {
   "cell_type": "markdown",
   "metadata": {},
   "source": [
    "<h4>Problem Statement</h4><br>\n",
    "This is where your problem statement will go.  Due to the legal obligations of witchcraft convictions, the courts were required to keep detailed records of the accusations.  It is estimated that most of those convicted were women, land owners, and unmarried without dependents to inherit their wealth.  "
   ]
  },
  {
   "cell_type": "markdown",
   "metadata": {},
   "source": [
    "<a name=#Data><font color=\"black\"><h4>DataSet</h4></font></a><br>\n",
    "The dataset consists of trial information for accused wiched from 1590 to 1662.  The dataset includes both women and men accused of witchcraft, <b>75%</b> of which are female.  The root of acustaions are in part of the data, as well as type, visions present, visitations, and accuser.  The data is an older dataset in a structured relational database format with an unconventional date that need to be reformatted for processing.  The files contain eight columns with descriptions in the following table: "
   ]
  },
  {
   "cell_type": "markdown",
   "metadata": {},
   "source": [
    " \n",
    "| Column | Description |\n",
    "| --- | --- |\n",
    "| **Accused** | Unique identifier of the accused | \n",
    "| **A_Name** | Name of the accused |\n",
    "| **Verdict** | Outcome of the trial | \n",
    "| **Gender** | Male, Female, Not Recorded |\n",
    "| **District** | Town of trial | \n",
    "| **Accuser** | Those claiming witchcraft of accused | \n",
    "| **Accusation** | Primary accusation |\n",
    "| **Secondary_Acc**| Additional charges |"
   ]
  },
  {
   "cell_type": "markdown",
   "metadata": {},
   "source": [
    "<h5>Files</h5>\n",
    "\n",
    "1.  /data/scottland_guilty.csv\n",
    "\n",
    "2.  /data/training.csv\n",
    "\n",
    "3.  /data/testing.csv\n",
    "\n",
    "There are three primary files.  The first file \"scottland_guilty.csv\" contains the orginal data for exploratory data analysis, cleaning, and parsing.  The training data set is found in \"training\" and the testing dataset is found in \"testing.\"\n",
    "\n",
    "There are over 5,000 records with multiple accused entries for follow-on convictions. "
   ]
  },
  {
   "cell_type": "markdown",
   "metadata": {},
   "source": [
    "| Accused | Verdict| Gender |  Distric  |  Accuser  |  Acusations |\n",
    "| --- | --- | --- | --- | --- | --- |\n",
    "| 13554 | Guilty | Female | Red Light | 65998 | Solicitation |"
   ]
  },
  {
   "cell_type": "markdown",
   "metadata": {},
   "source": [
    "<h4>Methodology</h4><br>\n",
    "The Chi Square statistic is commonly used for testing relationships between categorical variables.  The null hypothesis of the Chi-Square test is that no relationship exists on the categorical variables in the population; they are independent.  An example research question that could be answered using a Chi-Square analysis would be:<br>\n",
    "<center><i>Is there a significant relationship between voter intent and political party membership?</i></center><br>\n",
    "The calculation of the Chi-Square statistic is quite straight-forward and intuitive:\n",
    "<center>\n",
    "$\\tilde{\\chi}^2=\\frac{1}{d}\\sum_{k=1}^{n} \\frac{(O_k - E_k)^2}{E_k}$\n",
    "</center><br>\n",
    "&nbsp;&nbsp;&nbsp;&nbsp;&nbsp;&nbsp;&nbsp;&nbsp;&nbsp; where fo = the observed frequency (the observed counts in the cells)<br>\n",
    "&nbsp;&nbsp;&nbsp;&nbsp;&nbsp;&nbsp;&nbsp;&nbsp;&nbsp; and fe = the expected frequency if NO relationship existed between the variables\n",
    "\n",
    "As depicted in the formula, the Chi-Square statistic is based on the difference between what is actually observed in the data and what would be expected if there was truly no relationship between the variables."
   ]
  },
  {
   "cell_type": "markdown",
   "metadata": {},
   "source": [
    "<h4>Analysis</h4>"
   ]
  },
  {
   "cell_type": "code",
   "execution_count": 4,
   "metadata": {},
   "outputs": [],
   "source": [
    "import pandas as pd\n",
    "import numpy as np\n",
    "import scipy as sp\n",
    "import matplotlib.pyplot as plt\n",
    "\n",
    "%matplotlib inline "
   ]
  },
  {
   "cell_type": "code",
   "execution_count": 7,
   "metadata": {},
   "outputs": [
    {
     "data": {
      "text/plain": [
       "Text(0, 0.5, 'Y-Axis Label')"
      ]
     },
     "execution_count": 7,
     "metadata": {},
     "output_type": "execute_result"
    },
    {
     "data": {
      "image/png": "[encoded data removed]",
      "text/plain": [
       "<Figure size 432x288 with 1 Axes>"
      ]
     },
     "metadata": {
      "needs_background": "light"
     },
     "output_type": "display_data"
    }
   ],
   "source": [
    "# Make a data frame\n",
    "df=pd.DataFrame({'x': range(1,11), 'y1': np.random.randn(10), 'y2': np.random.randn(10)+range(1,11)})\n",
    "# multiple line plot\n",
    "for column in df.drop('x', axis=1):\n",
    "    plt.plot(df['x'], df[column], marker='', color='grey', linewidth=1, alpha=0.4)\n",
    "\n",
    "# Now re do the interesting curve, but biger with distinct color\n",
    "plt.plot(df['x'], df['y2'], marker='', color='#2471A3')\n",
    " \n",
    "# Change xlim\n",
    "plt.xlim(0,12)\n",
    " \n",
    "# Let's annotate the plot\n",
    "num=0\n",
    "for i in df.values[9][1:]:\n",
    "    num+=1\n",
    "    name=list(df)[num]\n",
    "    if name != 'y2':\n",
    "        plt.text(10.2, i, name, horizontalalignment='left', color='#424949')\n",
    "\n",
    "# And add a special annotation for the group we are interested in\n",
    "plt.text(10.2, df.y2.tail(1), 'y2', horizontalalignment='left', size='small', color='#2471A3')\n",
    " \n",
    "# Add titles\n",
    "plt.title(\"Plot Title: Highlighted Line\", loc='left', fontsize=12, fontweight=0, color='black')\n",
    "plt.xlabel(\"X-Axis Label\")\n",
    "plt.ylabel(\"Y-Axis Label\")"
   ]
  },
  {
   "cell_type": "markdown",
   "metadata": {},
   "source": [
    "<h4>Results</h4>"
   ]
  },
  {
   "cell_type": "markdown",
   "metadata": {},
   "source": [
    "This is where your primary findings will go, supporting charts and outputs.  "
   ]
  },
  {
   "cell_type": "markdown",
   "metadata": {},
   "source": [
    "<h4>Conclusion</h4>\n",
    "Summaryize your findings.  The scottish population was more likely to be accused of witchcraft if female, land-ownders, and recently widowed or unmarried. "
   ]
  },
  {
   "cell_type": "markdown",
   "metadata": {},
   "source": [
    "<hr>"
   ]
  },
  {
   "cell_type": "markdown",
   "metadata": {},
   "source": [
    "<h4>References</h4>"
   ]
  },
  {
   "cell_type": "markdown",
   "metadata": {},
   "source": [
    "1. Wizard, K. 1692: National Scotland inc. In K. Union (ed.), Convictions and Witchcraft, Scotlands doumented past. London: The Falmer Press."
   ]
  },
  {
   "cell_type": "markdown",
   "metadata": {},
   "source": [
    " <hr>\n",
    " <hr>\n",
    "<div style=\"width:800px; padding:10px\">\n",
    "    <div style=\"width:100px; float:left;\">&nbsp;</div>\n",
    "    <div style=\"width:100px; float:left;\">\n",
    "        <img src=\"images/author.png\" style=\"width:140px;height:110px\"/>\n",
    "    </div>\n",
    "    <div style=\"width:30px; float:left;\">&nbsp;</div>\n",
    "    <div style=\"width:500px; float:left;\">\n",
    "        <font face=\"Times New Roman\">\n",
    "        <a name=\"#Intro\"><font face=\"Times New Roman\" color=\"black\"><h3>About the Author</h3></font></a>\n",
    "        <div style=\"height:8px;font-size:1px;\">&nbsp;</div>\n",
    "        Hank is a Chechen mobster who's best friend is an assasin named Barry.  He enjoys long walks on the beach, organizing hits, and playing chess, writing in is feelings journal, and most of all, 50-50 with Christobal. <br>\n",
    "        </font>\n",
    "    </div>\n",
    "</div>"
   ]
  },
  {
   "cell_type": "code",
   "execution_count": null,
   "metadata": {},
   "outputs": [],
   "source": []
  }
 ],
 "metadata": {
  "kernelspec": {
   "display_name": "Python 3",
   "language": "python",
   "name": "python3"
  },
  "language_info": {
   "codemirror_mode": {
    "name": "ipython",
    "version": 3
   },
   "file_extension": ".py",
   "mimetype": "text/x-python",
   "name": "python",
   "nbconvert_exporter": "python",
   "pygments_lexer": "ipython3",
   "version": "3.6.7"
  }
 },
 "nbformat": 4,
 "nbformat_minor": 2
}
