{
 "cells": [
  {
   "cell_type": "markdown",
   "metadata": {},
   "source": [
    "<img src=\"logosDS5kproject.png\" width=\"1000\" height=\"500\" align=\"right\"/>\n",
    "\n",
    "# <font color='black'>Data Science Fundamentals Capstone Project - </font>\n",
    "## <font color='black'>Tree Classification Applications for Cybersecurity Risk Modeling</font>\n",
    "\n",
    "### <font color='gray'>*Author: Jane Doe*</font>  \n",
    "\n",
    "<font color='gray'>*Jane Doe is an Associate at Booz Allen Hamilton.  She specializes in ....*</font>\n",
    "\n",
    "-----------------------------------------------------------------------------------------------------"
   ]
  },
  {
   "cell_type": "markdown",
   "metadata": {},
   "source": [
    "## <font color='teal'>Business Problem</font>\n",
    "*This is where the problem statement will be identified and discussed along with relevant industry or contextual information to inform the reader.  This is also a good place to discuss the specific questions to be investigated with the analysis (e.g. what is the best model for classifying cybersecurity risk)*\n",
    "\n",
    "Your text here"
   ]
  },
  {
   "cell_type": "markdown",
   "metadata": {},
   "source": [
    "## <font color='teal'>Data Understanding</font>\n",
    "*This is where the source(s) of data, limitations of the data, collection methods, or anything else pertinent to origins of the dataset can be discussed.*\n",
    "\n",
    "Your text here\n",
    "\n",
    "### File Descriptions\n",
    "- firstDS5Kdata.csv - the dataset for the loan applicants in the Northest region of the US\n",
    "- secondDs5Kdata.csv - the loan default data from Bank A\n",
    "\n",
    "Source of data - [Kaggle.com](https://www.kaggle.com)"
   ]
  },
  {
   "cell_type": "markdown",
   "metadata": {},
   "source": [
    "## <font color='teal'>Data Preparation</font>\n",
    "*This is where your methodology for preparing the data can be discussed.  Example topics include: how normalized, outliers, where categorical variables turned into dummy variables, missingness addressed, etc.*\n",
    "\n",
    "    Your text here\n",
    "    \n",
    "        \n",
    "### Variable Dictionary\n",
    "\n",
    "- Var1: This is the first variable in your data set.  It is categorical.\n",
    "- Var2: This is the second variable in your data set.  It is numerical."
   ]
  },
  {
   "cell_type": "markdown",
   "metadata": {},
   "source": [
    "## <font color='teal'>Modeling</font>\n",
    "*This is where the actual modeling and analysis conducted can be discussed and shared. Example topics include an overview, training/validation split, variable reduction, different models that were considered/evaluated.*\n",
    "\n",
    "\n",
    "Your text here (e.g. overview, training validation split)"
   ]
  },
  {
   "cell_type": "code",
   "execution_count": 29,
   "metadata": {},
   "outputs": [],
   "source": [
    "#This is a placeholder for the data science workflow (e.g. decision tree model).  \n",
    "#You can include your code and iPython data visualizations here."
   ]
  },
  {
   "cell_type": "code",
   "execution_count": 30,
   "metadata": {},
   "outputs": [],
   "source": [
    "#This is a placeholder for the data science workflow (e.g. logistic regression model).\n",
    "#You can include your code and iPython data visualizations here."
   ]
  },
  {
   "cell_type": "code",
   "execution_count": 31,
   "metadata": {},
   "outputs": [],
   "source": [
    "#This is a placeholder for the data science workflow (e.g. support vector machines model).\n",
    "#You can include your code and iPython data visualizations here."
   ]
  },
  {
   "cell_type": "markdown",
   "metadata": {},
   "source": [
    "## <font color=\"teal\">Evaluation</font>\n",
    "*This is where you will identify your final model choice, as well as the criteria you used to arrive at that conclusion*\n",
    "\n",
    "Your text here"
   ]
  },
  {
   "cell_type": "code",
   "execution_count": null,
   "metadata": {},
   "outputs": [],
   "source": [
    "# Supporting chart outputs etc. from selected model"
   ]
  },
  {
   "cell_type": "markdown",
   "metadata": {},
   "source": [
    "## <font color=\"teal\">Deployment</font>\n",
    "*This is where you summarize your recommendation and how the model will be used to solve the business problem.  For example, will this model be used as a part of the standard cybersecurity quarterly evaluation process going forward?*\n",
    "\n",
    "\n",
    "Your text here"
   ]
  },
  {
   "cell_type": "markdown",
   "metadata": {},
   "source": [
    "## References\n",
    "Felluga, Dino. Guide to Literary and Critical Theory. Purdue U, 28 Nov. 2003, www.cla.purdue.edu/english/theory/. Accessed 10 May 2006."
   ]
  }
 ],
 "metadata": {
  "kernelspec": {
   "display_name": "Python 3",
   "language": "python",
   "name": "python3"
  },
  "language_info": {
   "codemirror_mode": {
    "name": "ipython",
    "version": 3
   },
   "file_extension": ".py",
   "mimetype": "text/x-python",
   "name": "python",
   "nbconvert_exporter": "python",
   "pygments_lexer": "ipython3",
   "version": "3.6.7"
  }
 },
 "nbformat": 4,
 "nbformat_minor": 2
}
